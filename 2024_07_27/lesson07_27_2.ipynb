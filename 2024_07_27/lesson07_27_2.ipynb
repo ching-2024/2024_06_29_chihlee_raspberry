{
 "cells": [
  {
   "cell_type": "code",
   "execution_count": 2,
   "metadata": {},
   "outputs": [
    {
     "name": "stdout",
     "output_type": "stream",
     "text": [
      "/home/pi/gitHub/2024_06_29_chihlee_raspberry/2024_07_27/__main__\n",
      "data dir exist\n",
      "log file exist\n"
     ]
    }
   ],
   "source": [
    "import os.path\n",
    "current_path = os.path.abspath(__name__)\n",
    "print(current_path)\n",
    "dir_name = os.path.dirname(current_path)\n",
    "data_path = os.path.join(dir_name, 'data')\n",
    "if not os.path.isdir(data_path):\n",
    "    print('create the dir')\n",
    "    os.mkdir(data_path)\n",
    "else:\n",
    "    print('data dir exist')\n",
    "\n",
    "log_path = os.path.join(data_path, 'iot.log')\n",
    "if not os.path.isfile(log_path):\n",
    "    print('create log file')\n",
    "    with open(log_path, mode='w', encoding='utf-8', newline='') as file:\n",
    "        file.write('時間,溼度,溫度\\n')\n",
    "else:\n",
    "    print('log file exist')"
   ]
  }
 ],
 "metadata": {
  "kernelspec": {
   "display_name": "venv1",
   "language": "python",
   "name": "python3"
  },
  "language_info": {
   "codemirror_mode": {
    "name": "ipython",
    "version": 3
   },
   "file_extension": ".py",
   "mimetype": "text/x-python",
   "name": "python",
   "nbconvert_exporter": "python",
   "pygments_lexer": "ipython3",
   "version": "3.11.9"
  }
 },
 "nbformat": 4,
 "nbformat_minor": 2
}
